{
 "cells": [
  {
   "cell_type": "markdown",
   "id": "f7f098a2-b87e-4c59-8421-4913edbe97fd",
   "metadata": {},
   "source": [
    "# Capstone Project - The Battle of the Neighborhoods\n",
    "### Applied Data Science Capstone by IBM/Coursera\n",
    "### by Emil Fuerstenberg Haegg"
   ]
  },
  {
   "cell_type": "markdown",
   "id": "13689792-72be-4c66-b6b7-8c124ec8f217",
   "metadata": {},
   "source": [
    "## Table of contents\n",
    "* [Introduction](#intro)\n",
    "* [Initialisation of notebook environment](#environment)\n",
    "* [Visualising similarity of Scottish cities towns by nearby venues and population](#pop_venues)\n",
    "* [Visualising GDP per capita for areas in Scotland using a choropleth map](#gdp_areas)"
   ]
  },
  {
   "cell_type": "markdown",
   "id": "dd540808-46b5-488f-a7ac-843f71a620cf",
   "metadata": {},
   "source": [
    "## Introduction <a name=\"intro\"></a>"
   ]
  },
  {
   "cell_type": "markdown",
   "id": "88d34ffd-3c28-4368-ace6-24027a3e1a7d",
   "metadata": {},
   "source": [
    "### Background"
   ]
  },
  {
   "cell_type": "markdown",
   "id": "12bd3332-0209-421c-9374-7c0980fc180a",
   "metadata": {},
   "source": [
    "Scotland is a country that is part of the United Kingdom and makes up the northern part of the island known as Great Britain. Scotland has a varied nature with the southern and eastern parts mostly consisting of rural lowlands, while the north-western parts are aptly known as the Highlands. The Highlands have a varied geology with mountains, countless islands, forests and bogs, but is sparsely populated. Most of the country's population is instead concentrated to the two larger cities in the south: Glasgow and Edinburgh, and the surrounding areas. \n",
    "\n",
    "In this project we aim to find a suitable location to relocate from a city to another area, considering some of the factors which would influence the choice. A relative planning to relocate from the town of Stornoway located on the island of Lewis and Harris at the north-western edge of the country. For work reasons they are moving to the area of Glasgow and Edinburgh. "
   ]
  },
  {
   "cell_type": "markdown",
   "id": "cf4f5453-e866-47a0-96e7-f99a9802d34a",
   "metadata": {},
   "source": [
    "### Business problem"
   ]
  },
  {
   "cell_type": "markdown",
   "id": "0411266c-89d6-48a8-8461-0fea97849fdd",
   "metadata": {},
   "source": [
    "The problem consists of narrowing down the choice of data for comparing the areas, depending on what the stakeholders, in this case our relative, consider the most important. The number of different comparisons which could be made are vast, and input from our stakeholder will guide which direction to take. Our stakeholder is looking to move to town which is similar to their hometown. As a starting point, we look to compare the cities and town on the following features: venues, population size and GDP per capita. We aim present this comparison visually. This way our stakeholder can get an initial overview on similarities and differences, as a starting point for further exploration. "
   ]
  },
  {
   "cell_type": "markdown",
   "id": "a868f6bf-bb50-40d3-a4a7-6a6519dc83a3",
   "metadata": {},
   "source": [
    "### Data"
   ]
  },
  {
   "cell_type": "markdown",
   "id": "ae9bf4a6-f000-4d0f-97af-dbae9701ed64",
   "metadata": {},
   "source": [
    "Data on the 51 largest cities and towns of Scotland and their population was found on Wikipedia: \n",
    "https://en.wikipedia.org/wiki/List_of_towns_and_cities_in_Scotland_by_population \n",
    "    \n",
    "Data on the hometown Stornoway can also be found at a Wikipedia page, this data can be added manually, which can in this case of a single entry be quicker than other methods: \n",
    "https://en.wikipedia.org/wiki/Stornoway \n",
    "    \n",
    "GDP per capita for the different areas of Scotland can also be found on a Wikipedia page: \n",
    "https://en.wikipedia.org/wiki/Economy_of_Scotland \n",
    "    \n",
    "Data could also be gathered from official registers but using Wikipedia as a source enables us to make use of this vast collection of knowledge, which is Wikipedia, while demonstrating the usage of commonly used tools for handling unstructured data. Using the package BeautifulSoup we can access the html-code directly and scrape this for the data of interest. \n",
    "\n",
    "Foursquare Places API can be used to find exploring venues for a given city or town. By connecting to this API we can request up to date information on the locations and categories of venues, within a radius from a certain coordinate. We look to arrange the towns and cities into clusters depending on the most common venues in the neighbourhood.  \n",
    "\n",
    "To create a choropleth map, we need a geo JSON-file representing the borders of the different areas, which can then be used to layer on top of the map and coloured according to GDP per capita. A JSON-file representing Local Authority Districts can be found at the following GitHub repository. The file has not been updated for several years, but represents the current areas, in place since 1994. \n",
    "https://github.com/martinjc/UK-GeoJSON/blob/master/json/administrative/sco/lad.json "
   ]
  },
  {
   "cell_type": "markdown",
   "id": "c51d9f9f-fe08-46bc-9be6-e4c48c566259",
   "metadata": {},
   "source": [
    "## Initialisation of notebook environment <a name=\"environment\"></a>"
   ]
  },
  {
   "cell_type": "markdown",
   "id": "finnish-kitchen",
   "metadata": {},
   "source": [
    "### Import libraries"
   ]
  },
  {
   "cell_type": "code",
   "execution_count": 30,
   "id": "postal-composite",
   "metadata": {},
   "outputs": [
    {
     "name": "stdout",
     "output_type": "stream",
     "text": [
      "Libraries imported.\n"
     ]
    }
   ],
   "source": [
    "import numpy as np # library to handle data in a vectorized manner\n",
    "import pandas as pd # library for data analysis\n",
    "\n",
    "# Set diplay options\n",
    "pd.set_option('display.max_columns', None)\n",
    "pd.set_option('display.max_rows', None)\n",
    "\n",
    "import re # For regular expression manipulation\n",
    "from math import sqrt # squareroot function\n",
    "from math import pi\n",
    "\n",
    "import json # module for handling json-files\n",
    "import requests # library to handle requests\n",
    "            \n",
    "#!pip install bs4  # uncomment if not already installed\n",
    "from bs4 import BeautifulSoup\n",
    "\n",
    "print('Libraries imported.')"
   ]
  },
  {
   "cell_type": "markdown",
   "id": "worth-survivor",
   "metadata": {},
   "source": [
    "### Credentials and default settings for Foursquare API"
   ]
  },
  {
   "cell_type": "code",
   "execution_count": 31,
   "id": "understood-talent",
   "metadata": {},
   "outputs": [],
   "source": [
    "import configparser\n",
    "\n",
    "config = configparser.ConfigParser()\n",
    "config.read(\"config.txt\")\n",
    "\n",
    "CLIENT_ID= config.get(\"configuration\",\"api_key\")\n",
    "CLIENT_SECRET = config.get(\"configuration\",\"api_secret\")\n",
    "\n",
    "VERSION = '20200416' # Foursquare API version\n",
    "LIMIT = 100 # A default Foursquare API limit value"
   ]
  },
  {
   "cell_type": "markdown",
   "id": "2319ab3a-eedc-43df-b7ba-df8cf80c64c7",
   "metadata": {},
   "source": [
    "## Visualising similarity of Scottish cities towns by nearby venues and population <a name=\"pop_venues\"></a>"
   ]
  },
  {
   "cell_type": "markdown",
   "id": "374c6a4d-ab00-4daf-9ac8-7dd62d204147",
   "metadata": {},
   "source": [
    "### Data sourcing"
   ]
  },
  {
   "cell_type": "markdown",
   "id": "03c1cf7a-b359-44f5-9f88-8898a3014f68",
   "metadata": {},
   "source": [
    "Webpage URL"
   ]
  },
  {
   "cell_type": "code",
   "execution_count": 32,
   "id": "outside-halifax",
   "metadata": {},
   "outputs": [],
   "source": [
    "url = \"https://en.wikipedia.org/wiki/List_of_towns_and_cities_in_Scotland_by_population\""
   ]
  },
  {
   "cell_type": "markdown",
   "id": "675ef2bb-d337-4679-83f9-0c34fb5e1ca9",
   "metadata": {},
   "source": [
    "Getting content in text format and store in variable 'data'"
   ]
  },
  {
   "cell_type": "code",
   "execution_count": 33,
   "id": "united-grace",
   "metadata": {},
   "outputs": [],
   "source": [
    "data  = requests.get(url).text"
   ]
  },
  {
   "cell_type": "markdown",
   "id": "49b2c086-fda7-431a-9d10-986edfc93aa2",
   "metadata": {},
   "source": [
    "Create beautifulsoup object on 'data'"
   ]
  },
  {
   "cell_type": "code",
   "execution_count": 34,
   "id": "elect-albania",
   "metadata": {},
   "outputs": [],
   "source": [
    "soup = BeautifulSoup(data,\"html.parser\")"
   ]
  },
  {
   "cell_type": "markdown",
   "id": "3480675f-2494-4b59-9766-eb31feff8caf",
   "metadata": {},
   "source": [
    "Find all html-tables in the webpage"
   ]
  },
  {
   "cell_type": "code",
   "execution_count": 35,
   "id": "operational-white",
   "metadata": {},
   "outputs": [],
   "source": [
    "tables = soup.find_all('table') # in html table is represented by the tag <table>"
   ]
  },
  {
   "cell_type": "markdown",
   "id": "1c19e910-e416-4ebd-abc7-e13c832b010d",
   "metadata": {},
   "source": [
    "Check how many tables were found"
   ]
  },
  {
   "cell_type": "code",
   "execution_count": 36,
   "id": "infectious-regression",
   "metadata": {},
   "outputs": [
    {
     "data": {
      "text/plain": [
       "4"
      ]
     },
     "execution_count": 36,
     "metadata": {},
     "output_type": "execute_result"
    }
   ],
   "source": [
    "len(tables)"
   ]
  },
  {
   "cell_type": "markdown",
   "id": "230b13d3-5b05-41ad-9da3-7812e2ed107a",
   "metadata": {},
   "source": [
    "Indices for tables found  "
   ]
  },
  {
   "cell_type": "code",
   "execution_count": 37,
   "id": "empty-slovakia",
   "metadata": {
    "tags": []
   },
   "outputs": [
    {
     "name": "stdout",
     "output_type": "stream",
     "text": [
      "0\n",
      "1\n",
      "2\n",
      "3\n"
     ]
    }
   ],
   "source": [
    "for index,table in enumerate(tables):\n",
    "    table_index = index\n",
    "    print(table_index)"
   ]
  },
  {
   "cell_type": "markdown",
   "id": "e1683211-6d14-47c3-bd3d-1f5c9c482d67",
   "metadata": {},
   "source": [
    "Check for name of tables"
   ]
  },
  {
   "cell_type": "code",
   "execution_count": 38,
   "id": "scientific-monkey",
   "metadata": {},
   "outputs": [
    {
     "name": "stdout",
     "output_type": "stream",
     "text": [
      "None\n",
      "None\n",
      "None\n",
      "None\n"
     ]
    }
   ],
   "source": [
    "for index, table in enumerate(tables):\n",
    "    print(tables[index].caption)"
   ]
  },
  {
   "cell_type": "markdown",
   "id": "8ea315e2-d30d-4932-b14e-ad8421e00a46",
   "metadata": {},
   "source": [
    "Find all wikitables in the webpage"
   ]
  },
  {
   "cell_type": "code",
   "execution_count": 39,
   "id": "certain-borough",
   "metadata": {},
   "outputs": [],
   "source": [
    "# Inspecting webpage and finding that table in interest is wikitable, \n",
    "# testing find all for that class, rather than looking through tables above\n",
    "wikitables = soup.find_all(\"table\",{\"class\":\"wikitable\"})\n"
   ]
  },
  {
   "cell_type": "markdown",
   "id": "6084395c-697d-49bd-a6bb-698c598caa23",
   "metadata": {},
   "source": [
    "Number of wikitables found"
   ]
  },
  {
   "cell_type": "code",
   "execution_count": 40,
   "id": "8dab1c60-e304-430b-8e6c-bcca98adcd0a",
   "metadata": {},
   "outputs": [
    {
     "name": "stdout",
     "output_type": "stream",
     "text": [
      "2\n"
     ]
    }
   ],
   "source": [
    "print(len(wikitables))"
   ]
  },
  {
   "cell_type": "markdown",
   "id": "ca7589f3-c3d8-475e-b8d1-285abf48deff",
   "metadata": {},
   "source": [
    "Indices for tables found "
   ]
  },
  {
   "cell_type": "code",
   "execution_count": 41,
   "id": "limited-thread",
   "metadata": {
    "tags": []
   },
   "outputs": [
    {
     "name": "stdout",
     "output_type": "stream",
     "text": [
      "0\n",
      "1\n"
     ]
    }
   ],
   "source": [
    "# indices for tables found\n",
    "for index,table in enumerate(wikitables):\n",
    "    table_index = index\n",
    "    print(table_index)"
   ]
  },
  {
   "cell_type": "markdown",
   "id": "1089533e-c178-4c54-8888-cff5a3fc51e8",
   "metadata": {},
   "source": [
    "Table of interest"
   ]
  },
  {
   "cell_type": "code",
   "execution_count": 42,
   "id": "0152360a-61a0-4c5a-8380-674536225217",
   "metadata": {},
   "outputs": [],
   "source": [
    "tablen = wikitables[0]"
   ]
  },
  {
   "cell_type": "markdown",
   "id": "cafd4fd2-5cde-4e45-8a22-a9e43aa3e416",
   "metadata": {},
   "source": [
    "Creating dataframe and filling with data of interest from fetched table"
   ]
  },
  {
   "cell_type": "code",
   "execution_count": 43,
   "id": "premium-probability",
   "metadata": {},
   "outputs": [],
   "source": [
    "# create dataframe\n",
    "cities = pd.DataFrame(columns=[\"City\",\"Population\",\"Status\"])\n",
    "    \n",
    "# enumerating tablerows and columns, fill dataframe with data, correct columns found using <th>,\n",
    "for row in tablen.tbody.find_all(\"tr\"):\n",
    "    col = row.find_all(\"td\")\n",
    "    if (col != []):\n",
    "        city = col[0].text.strip() \n",
    "        population = col[1].text.strip()\n",
    "        status = col[2].text.strip()\n",
    "        cities = cities.append({\"City\":city, \"Population\":population, \"Status\":status}, ignore_index=True)"
   ]
  },
  {
   "cell_type": "markdown",
   "id": "0291d99e-5ca8-4632-919a-5efb784d9a4e",
   "metadata": {},
   "source": [
    "Add hometown to dataframe\n",
    "https://en.wikipedia.org/wiki/Stornoway"
   ]
  },
  {
   "cell_type": "code",
   "execution_count": 44,
   "id": "519019d7-740a-4e05-a172-d3c0a8a0c553",
   "metadata": {},
   "outputs": [],
   "source": [
    "new_row = {'City':'Stornoway', 'Population':5070, 'Status':'Town'}\n",
    "cities = cities.append(new_row, ignore_index=True)"
   ]
  },
  {
   "cell_type": "code",
   "execution_count": 45,
   "id": "ae90947b-0fea-4221-a4ab-9db61d5d6133",
   "metadata": {},
   "outputs": [
    {
     "data": {
      "text/html": [
       "<div>\n",
       "<style scoped>\n",
       "    .dataframe tbody tr th:only-of-type {\n",
       "        vertical-align: middle;\n",
       "    }\n",
       "\n",
       "    .dataframe tbody tr th {\n",
       "        vertical-align: top;\n",
       "    }\n",
       "\n",
       "    .dataframe thead th {\n",
       "        text-align: right;\n",
       "    }\n",
       "</style>\n",
       "<table border=\"1\" class=\"dataframe\">\n",
       "  <thead>\n",
       "    <tr style=\"text-align: right;\">\n",
       "      <th></th>\n",
       "      <th>City</th>\n",
       "      <th>Population</th>\n",
       "      <th>Status</th>\n",
       "    </tr>\n",
       "  </thead>\n",
       "  <tbody>\n",
       "    <tr>\n",
       "      <th>0</th>\n",
       "      <td>Glasgow</td>\n",
       "      <td>612,040</td>\n",
       "      <td>City</td>\n",
       "    </tr>\n",
       "    <tr>\n",
       "      <th>1</th>\n",
       "      <td>Edinburgh</td>\n",
       "      <td>488,050</td>\n",
       "      <td>City</td>\n",
       "    </tr>\n",
       "    <tr>\n",
       "      <th>2</th>\n",
       "      <td>Aberdeen</td>\n",
       "      <td>200,680</td>\n",
       "      <td>City</td>\n",
       "    </tr>\n",
       "    <tr>\n",
       "      <th>3</th>\n",
       "      <td>Dundee</td>\n",
       "      <td>148,280</td>\n",
       "      <td>City</td>\n",
       "    </tr>\n",
       "    <tr>\n",
       "      <th>4</th>\n",
       "      <td>Paisley</td>\n",
       "      <td>77,220</td>\n",
       "      <td>Town[4]</td>\n",
       "    </tr>\n",
       "    <tr>\n",
       "      <th>5</th>\n",
       "      <td>East Kilbride</td>\n",
       "      <td>75,120</td>\n",
       "      <td>Town</td>\n",
       "    </tr>\n",
       "    <tr>\n",
       "      <th>6</th>\n",
       "      <td>Livingston</td>\n",
       "      <td>57,030</td>\n",
       "      <td>Town</td>\n",
       "    </tr>\n",
       "    <tr>\n",
       "      <th>7</th>\n",
       "      <td>Hamilton</td>\n",
       "      <td>54,080</td>\n",
       "      <td>Town</td>\n",
       "    </tr>\n",
       "    <tr>\n",
       "      <th>8</th>\n",
       "      <td>Dunfermline</td>\n",
       "      <td>53,100</td>\n",
       "      <td>Town</td>\n",
       "    </tr>\n",
       "    <tr>\n",
       "      <th>9</th>\n",
       "      <td>Cumbernauld</td>\n",
       "      <td>50,920</td>\n",
       "      <td>Town</td>\n",
       "    </tr>\n",
       "    <tr>\n",
       "      <th>10</th>\n",
       "      <td>Kirkcaldy</td>\n",
       "      <td>50,010</td>\n",
       "      <td>Town</td>\n",
       "    </tr>\n",
       "    <tr>\n",
       "      <th>11</th>\n",
       "      <td>Perth</td>\n",
       "      <td>47,430</td>\n",
       "      <td>City[5]</td>\n",
       "    </tr>\n",
       "    <tr>\n",
       "      <th>12</th>\n",
       "      <td>Inverness</td>\n",
       "      <td>47,290</td>\n",
       "      <td>City</td>\n",
       "    </tr>\n",
       "    <tr>\n",
       "      <th>13</th>\n",
       "      <td>Ayr</td>\n",
       "      <td>46,780</td>\n",
       "      <td>Town</td>\n",
       "    </tr>\n",
       "    <tr>\n",
       "      <th>14</th>\n",
       "      <td>Kilmarnock</td>\n",
       "      <td>46,770</td>\n",
       "      <td>Town</td>\n",
       "    </tr>\n",
       "    <tr>\n",
       "      <th>15</th>\n",
       "      <td>Coatbridge</td>\n",
       "      <td>43,960</td>\n",
       "      <td>Town</td>\n",
       "    </tr>\n",
       "    <tr>\n",
       "      <th>16</th>\n",
       "      <td>Greenock</td>\n",
       "      <td>42,680</td>\n",
       "      <td>Town</td>\n",
       "    </tr>\n",
       "    <tr>\n",
       "      <th>17</th>\n",
       "      <td>Glenrothes</td>\n",
       "      <td>38,510</td>\n",
       "      <td>Town</td>\n",
       "    </tr>\n",
       "    <tr>\n",
       "      <th>18</th>\n",
       "      <td>Stirling</td>\n",
       "      <td>37,610</td>\n",
       "      <td>City</td>\n",
       "    </tr>\n",
       "    <tr>\n",
       "      <th>19</th>\n",
       "      <td>Airdrie</td>\n",
       "      <td>37,410</td>\n",
       "      <td>Town</td>\n",
       "    </tr>\n",
       "    <tr>\n",
       "      <th>20</th>\n",
       "      <td>Falkirk</td>\n",
       "      <td>35,850</td>\n",
       "      <td>Town</td>\n",
       "    </tr>\n",
       "    <tr>\n",
       "      <th>21</th>\n",
       "      <td>Irvine</td>\n",
       "      <td>34,090</td>\n",
       "      <td>Town</td>\n",
       "    </tr>\n",
       "    <tr>\n",
       "      <th>22</th>\n",
       "      <td>Dumfries</td>\n",
       "      <td>33,440</td>\n",
       "      <td>Town</td>\n",
       "    </tr>\n",
       "    <tr>\n",
       "      <th>23</th>\n",
       "      <td>Motherwell</td>\n",
       "      <td>32,590</td>\n",
       "      <td>Town</td>\n",
       "    </tr>\n",
       "    <tr>\n",
       "      <th>24</th>\n",
       "      <td>Rutherglen</td>\n",
       "      <td>31,190</td>\n",
       "      <td>Town</td>\n",
       "    </tr>\n",
       "    <tr>\n",
       "      <th>25</th>\n",
       "      <td>Wishaw</td>\n",
       "      <td>30,290</td>\n",
       "      <td>Town</td>\n",
       "    </tr>\n",
       "    <tr>\n",
       "      <th>26</th>\n",
       "      <td>Cambuslang</td>\n",
       "      <td>29,100</td>\n",
       "      <td>Town</td>\n",
       "    </tr>\n",
       "    <tr>\n",
       "      <th>27</th>\n",
       "      <td>Bearsden</td>\n",
       "      <td>28,120</td>\n",
       "      <td>Town</td>\n",
       "    </tr>\n",
       "    <tr>\n",
       "      <th>28</th>\n",
       "      <td>Newton Mearns</td>\n",
       "      <td>26,600</td>\n",
       "      <td>Town</td>\n",
       "    </tr>\n",
       "    <tr>\n",
       "      <th>29</th>\n",
       "      <td>Clydebank</td>\n",
       "      <td>26,320</td>\n",
       "      <td>Town</td>\n",
       "    </tr>\n",
       "    <tr>\n",
       "      <th>30</th>\n",
       "      <td>Elgin</td>\n",
       "      <td>24,760</td>\n",
       "      <td>Town[4]</td>\n",
       "    </tr>\n",
       "    <tr>\n",
       "      <th>31</th>\n",
       "      <td>Arbroath</td>\n",
       "      <td>23,940</td>\n",
       "      <td>Town</td>\n",
       "    </tr>\n",
       "    <tr>\n",
       "      <th>32</th>\n",
       "      <td>Bishopbriggs</td>\n",
       "      <td>23,540</td>\n",
       "      <td>Town</td>\n",
       "    </tr>\n",
       "    <tr>\n",
       "      <th>33</th>\n",
       "      <td>Bathgate</td>\n",
       "      <td>22,920</td>\n",
       "      <td>Town</td>\n",
       "    </tr>\n",
       "    <tr>\n",
       "      <th>34</th>\n",
       "      <td>Renfrew</td>\n",
       "      <td>22,570</td>\n",
       "      <td>Town</td>\n",
       "    </tr>\n",
       "    <tr>\n",
       "      <th>35</th>\n",
       "      <td>Kirkintilloch</td>\n",
       "      <td>21,380</td>\n",
       "      <td>Town</td>\n",
       "    </tr>\n",
       "    <tr>\n",
       "      <th>36</th>\n",
       "      <td>Musselburgh</td>\n",
       "      <td>20,840</td>\n",
       "      <td>Town</td>\n",
       "    </tr>\n",
       "    <tr>\n",
       "      <th>37</th>\n",
       "      <td>Dumbarton</td>\n",
       "      <td>20,560</td>\n",
       "      <td>Town</td>\n",
       "    </tr>\n",
       "    <tr>\n",
       "      <th>38</th>\n",
       "      <td>Bellshill</td>\n",
       "      <td>20,290</td>\n",
       "      <td>Town</td>\n",
       "    </tr>\n",
       "    <tr>\n",
       "      <th>39</th>\n",
       "      <td>Peterhead</td>\n",
       "      <td>19,270</td>\n",
       "      <td>Town</td>\n",
       "    </tr>\n",
       "    <tr>\n",
       "      <th>40</th>\n",
       "      <td>Barrhead</td>\n",
       "      <td>17,610</td>\n",
       "      <td>Town</td>\n",
       "    </tr>\n",
       "    <tr>\n",
       "      <th>41</th>\n",
       "      <td>St Andrews</td>\n",
       "      <td>17,580</td>\n",
       "      <td>Town</td>\n",
       "    </tr>\n",
       "    <tr>\n",
       "      <th>42</th>\n",
       "      <td>Bonnyrigg</td>\n",
       "      <td>17,530</td>\n",
       "      <td>Town</td>\n",
       "    </tr>\n",
       "    <tr>\n",
       "      <th>43</th>\n",
       "      <td>Blantyre</td>\n",
       "      <td>16,900</td>\n",
       "      <td>Town</td>\n",
       "    </tr>\n",
       "    <tr>\n",
       "      <th>44</th>\n",
       "      <td>Grangemouth</td>\n",
       "      <td>16,650</td>\n",
       "      <td>Town</td>\n",
       "    </tr>\n",
       "    <tr>\n",
       "      <th>45</th>\n",
       "      <td>Kilwinning</td>\n",
       "      <td>16,460</td>\n",
       "      <td>Town</td>\n",
       "    </tr>\n",
       "    <tr>\n",
       "      <th>46</th>\n",
       "      <td>Penicuik</td>\n",
       "      <td>16,120</td>\n",
       "      <td>Town</td>\n",
       "    </tr>\n",
       "    <tr>\n",
       "      <th>47</th>\n",
       "      <td>Johnstone</td>\n",
       "      <td>16,090</td>\n",
       "      <td>Town</td>\n",
       "    </tr>\n",
       "    <tr>\n",
       "      <th>48</th>\n",
       "      <td>Viewpark</td>\n",
       "      <td>15,770</td>\n",
       "      <td>Town</td>\n",
       "    </tr>\n",
       "    <tr>\n",
       "      <th>49</th>\n",
       "      <td>Erskine</td>\n",
       "      <td>15,510</td>\n",
       "      <td>Town</td>\n",
       "    </tr>\n",
       "    <tr>\n",
       "      <th>50</th>\n",
       "      <td>Broxburn</td>\n",
       "      <td>15,440</td>\n",
       "      <td>Town</td>\n",
       "    </tr>\n",
       "    <tr>\n",
       "      <th>51</th>\n",
       "      <td>Stornoway</td>\n",
       "      <td>5070</td>\n",
       "      <td>Town</td>\n",
       "    </tr>\n",
       "  </tbody>\n",
       "</table>\n",
       "</div>"
      ],
      "text/plain": [
       "             City Population   Status\n",
       "0         Glasgow    612,040     City\n",
       "1       Edinburgh    488,050     City\n",
       "2        Aberdeen    200,680     City\n",
       "3          Dundee    148,280     City\n",
       "4         Paisley     77,220  Town[4]\n",
       "5   East Kilbride     75,120     Town\n",
       "6      Livingston     57,030     Town\n",
       "7        Hamilton     54,080     Town\n",
       "8     Dunfermline     53,100     Town\n",
       "9     Cumbernauld     50,920     Town\n",
       "10      Kirkcaldy     50,010     Town\n",
       "11          Perth     47,430  City[5]\n",
       "12      Inverness     47,290     City\n",
       "13            Ayr     46,780     Town\n",
       "14     Kilmarnock     46,770     Town\n",
       "15     Coatbridge     43,960     Town\n",
       "16       Greenock     42,680     Town\n",
       "17     Glenrothes     38,510     Town\n",
       "18       Stirling     37,610     City\n",
       "19        Airdrie     37,410     Town\n",
       "20        Falkirk     35,850     Town\n",
       "21         Irvine     34,090     Town\n",
       "22       Dumfries     33,440     Town\n",
       "23     Motherwell     32,590     Town\n",
       "24     Rutherglen     31,190     Town\n",
       "25         Wishaw     30,290     Town\n",
       "26     Cambuslang     29,100     Town\n",
       "27       Bearsden     28,120     Town\n",
       "28  Newton Mearns     26,600     Town\n",
       "29      Clydebank     26,320     Town\n",
       "30          Elgin     24,760  Town[4]\n",
       "31       Arbroath     23,940     Town\n",
       "32   Bishopbriggs     23,540     Town\n",
       "33       Bathgate     22,920     Town\n",
       "34        Renfrew     22,570     Town\n",
       "35  Kirkintilloch     21,380     Town\n",
       "36    Musselburgh     20,840     Town\n",
       "37      Dumbarton     20,560     Town\n",
       "38      Bellshill     20,290     Town\n",
       "39      Peterhead     19,270     Town\n",
       "40       Barrhead     17,610     Town\n",
       "41     St Andrews     17,580     Town\n",
       "42      Bonnyrigg     17,530     Town\n",
       "43       Blantyre     16,900     Town\n",
       "44    Grangemouth     16,650     Town\n",
       "45     Kilwinning     16,460     Town\n",
       "46       Penicuik     16,120     Town\n",
       "47      Johnstone     16,090     Town\n",
       "48       Viewpark     15,770     Town\n",
       "49        Erskine     15,510     Town\n",
       "50       Broxburn     15,440     Town\n",
       "51      Stornoway       5070     Town"
      ]
     },
     "metadata": {},
     "output_type": "display_data"
    }
   ],
   "source": [
    "display(cities)"
   ]
  },
  {
   "cell_type": "markdown",
   "id": "533ad4ee-6e25-4420-a1c2-12cead81adc3",
   "metadata": {},
   "source": [
    "## Visualising GDP per capita for areas in Scotland using a choropleth map <a name=\"gdp_areas\"></a>"
   ]
  },
  {
   "cell_type": "markdown",
   "id": "1a3ad173-8a0b-4950-b453-e45897efde6e",
   "metadata": {},
   "source": [
    "### Data sourcing"
   ]
  },
  {
   "cell_type": "markdown",
   "id": "e9673cb0-b80f-4002-ace1-1b29282e4633",
   "metadata": {},
   "source": [
    "Page used to find geo-json-file over scotland, download file using wget\n",
    "\n",
    "https://github.com/martinjc/UK-GeoJSON/blob/master/json/administrative/sco/lad.json"
   ]
  },
  {
   "cell_type": "code",
   "execution_count": 46,
   "id": "ed3a7be9-dfd0-4789-bfd7-e8acdef9e2e1",
   "metadata": {},
   "outputs": [],
   "source": [
    "!wget --quiet https://raw.githubusercontent.com/martinjc/UK-GeoJSON/master/json/administrative/sco/lad.json"
   ]
  },
  {
   "cell_type": "markdown",
   "id": "2c030837-dc27-4c3d-a258-593e9b058ae5",
   "metadata": {},
   "source": [
    "Read geodata and fetch names of areas (Glasgow City is for some reason not fetched), but included in scot_geo, so works fine to key one when drawing choropeth map)"
   ]
  },
  {
   "cell_type": "code",
   "execution_count": 47,
   "id": "d991dbc7-3d05-41b8-b64c-99de7cdd7057",
   "metadata": {},
   "outputs": [
    {
     "name": "stdout",
     "output_type": "stream",
     "text": [
      "Clackmannanshire\n",
      "Dumfries and Galloway\n",
      "East Ayrshire\n",
      "East Lothian\n",
      "East Renfrewshire\n",
      "Eilean Siar\n",
      "Falkirk\n",
      "Fife\n",
      "Highland\n",
      "Inverclyde\n",
      "Midlothian\n",
      "Moray\n",
      "North Ayrshire\n",
      "Orkney Islands\n",
      "Perth and Kinross\n",
      "Scottish Borders\n",
      "Shetland Islands\n",
      "South Ayrshire\n",
      "South Lanarkshire\n",
      "Stirling\n",
      "Aberdeen City\n",
      "Aberdeenshire\n",
      "Argyll and Bute\n",
      "City of Edinburgh\n",
      "Renfrewshire\n",
      "West Dunbartonshire\n",
      "West Lothian\n",
      "Angus\n",
      "Dundee City\n",
      "North Lanarkshire\n",
      "East Dunbartonshire\n"
     ]
    }
   ],
   "source": [
    "# read geosjon-file\n",
    "scot_geo = r'lad.json'\n",
    "\n",
    "with open(scot_geo, 'r') as j:\n",
    "    d = json.loads(j.read())\n",
    "\n",
    "lista_json = []\n",
    "for i in range(0,31):\n",
    "    lad_names = d['features'][i]['properties']['LAD13NM']\n",
    "    lista_json.append(lad_names)\n",
    "    print(lad_names)"
   ]
  },
  {
   "cell_type": "markdown",
   "id": "3a852970-bd7d-459b-be0d-d2af9d6d5fc8",
   "metadata": {},
   "source": [
    "Webpage URL"
   ]
  },
  {
   "cell_type": "code",
   "execution_count": 48,
   "id": "a7e98164-0479-46b0-86bf-853f20eb8aa8",
   "metadata": {},
   "outputs": [],
   "source": [
    "url = \"https://en.wikipedia.org/wiki/Economy_of_Scotland\""
   ]
  },
  {
   "cell_type": "markdown",
   "id": "1430ad29-945f-44f3-9158-d8f73dd9de5d",
   "metadata": {},
   "source": [
    "Getting content in text format and store in variable 'data'"
   ]
  },
  {
   "cell_type": "code",
   "execution_count": 49,
   "id": "7c5be075-6c41-4727-82ad-7657838d92e5",
   "metadata": {},
   "outputs": [],
   "source": [
    "data  = requests.get(url).text"
   ]
  },
  {
   "cell_type": "markdown",
   "id": "510f66be-2469-4753-9266-249a026b2976",
   "metadata": {},
   "source": [
    "Creating beautifulsoup object on 'data'"
   ]
  },
  {
   "cell_type": "code",
   "execution_count": 50,
   "id": "1474800a-da7e-42c7-9b24-d3e4c8c52423",
   "metadata": {},
   "outputs": [],
   "source": [
    "soup = BeautifulSoup(data,\"html.parser\")"
   ]
  },
  {
   "cell_type": "markdown",
   "id": "642a184f-0a8d-4baa-a76f-ab757688be1b",
   "metadata": {},
   "source": [
    "Find all html-tables in the webpage"
   ]
  },
  {
   "cell_type": "code",
   "execution_count": 51,
   "id": "7e6d14ac-72e7-4ba8-8060-aeb739dcf1bb",
   "metadata": {},
   "outputs": [],
   "source": [
    "tables = soup.find_all('table')"
   ]
  },
  {
   "cell_type": "markdown",
   "id": "953f40c9-c822-4529-b4e7-956b5bef2012",
   "metadata": {},
   "source": [
    "Check how many tables were found"
   ]
  },
  {
   "cell_type": "code",
   "execution_count": 52,
   "id": "4e3b23f2-8e0e-42be-a68d-c897192dfa3b",
   "metadata": {},
   "outputs": [
    {
     "data": {
      "text/plain": [
       "20"
      ]
     },
     "execution_count": 52,
     "metadata": {},
     "output_type": "execute_result"
    }
   ],
   "source": [
    "len(tables)"
   ]
  },
  {
   "cell_type": "markdown",
   "id": "13b93be6-4d65-4590-8cc7-971b4d325a49",
   "metadata": {},
   "source": [
    "Check for name of tables"
   ]
  },
  {
   "cell_type": "code",
   "execution_count": 53,
   "id": "00a7a39c-8ec5-45bc-91f1-238207a62140",
   "metadata": {},
   "outputs": [
    {
     "name": "stdout",
     "output_type": "stream",
     "text": [
      "None\n",
      "<caption class=\"infobox-title adr\">Economy of <span class=\"country-name\">Scotland</span></caption>\n",
      "<caption>Top export destinations (excluding oil and gas)\n",
      "</caption>\n",
      "<caption>Income Tax Rates and Bands 2018-21<sup class=\"reference\" id=\"cite_ref-113\"><a href=\"#cite_note-113\">[110]</a></sup>\n",
      "</caption>\n",
      "<caption>GDP by area\n",
      "</caption>\n",
      "None\n",
      "None\n",
      "None\n",
      "None\n",
      "None\n",
      "None\n",
      "None\n",
      "None\n",
      "None\n",
      "None\n",
      "None\n",
      "None\n",
      "None\n",
      "None\n",
      "None\n"
     ]
    }
   ],
   "source": [
    " for index, table in enumerate(tables):\n",
    "    print(tables[index].caption)"
   ]
  },
  {
   "cell_type": "markdown",
   "id": "5a0a1a63-f690-4f50-80c1-bfca2c0415b7",
   "metadata": {},
   "source": [
    "Inspecting webpage and finding that table in interest is wikitable, \n",
    "testing find all for that class, rather than looking through tables above"
   ]
  },
  {
   "cell_type": "code",
   "execution_count": 54,
   "id": "e7d20404-0c2a-4cb0-b967-b87ab8b640ab",
   "metadata": {},
   "outputs": [
    {
     "data": {
      "text/plain": [
       "3"
      ]
     },
     "execution_count": 54,
     "metadata": {},
     "output_type": "execute_result"
    }
   ],
   "source": [
    "wikitables = soup.find_all(\"table\",{\"class\":\"wikitable\"})\n",
    "# number of tables\n",
    "len(wikitables)"
   ]
  },
  {
   "cell_type": "markdown",
   "id": "fe210a60-ce6c-40c9-b624-9860d8889987",
   "metadata": {},
   "source": [
    "Check for name of tables"
   ]
  },
  {
   "cell_type": "code",
   "execution_count": 55,
   "id": "b5331960-48e4-4515-8468-f62bc5832f95",
   "metadata": {},
   "outputs": [
    {
     "name": "stdout",
     "output_type": "stream",
     "text": [
      "<caption>Top export destinations (excluding oil and gas)\n",
      "</caption>\n",
      "<caption>Income Tax Rates and Bands 2018-21<sup class=\"reference\" id=\"cite_ref-113\"><a href=\"#cite_note-113\">[110]</a></sup>\n",
      "</caption>\n",
      "<caption>GDP by area\n",
      "</caption>\n"
     ]
    }
   ],
   "source": [
    " for index, table in enumerate(wikitables):\n",
    "    print(wikitables[index].caption)"
   ]
  },
  {
   "cell_type": "markdown",
   "id": "198b0797-e859-475b-917c-36b671f79569",
   "metadata": {},
   "source": [
    "Table of interest"
   ]
  },
  {
   "cell_type": "code",
   "execution_count": 56,
   "id": "d31c958d-e646-41eb-aca2-6dee5e0be546",
   "metadata": {},
   "outputs": [],
   "source": [
    " tablen = wikitables[2]"
   ]
  },
  {
   "cell_type": "markdown",
   "id": "c547ec3d-a269-46ee-9a72-ebc3f4f08f0d",
   "metadata": {},
   "source": [
    "Creating dataframe and filling with data of interest from fetched table"
   ]
  },
  {
   "cell_type": "code",
   "execution_count": 57,
   "id": "fe986b6f-cd1b-413f-a45a-b17c96834f95",
   "metadata": {},
   "outputs": [
    {
     "data": {
      "text/html": [
       "<div>\n",
       "<style scoped>\n",
       "    .dataframe tbody tr th:only-of-type {\n",
       "        vertical-align: middle;\n",
       "    }\n",
       "\n",
       "    .dataframe tbody tr th {\n",
       "        vertical-align: top;\n",
       "    }\n",
       "\n",
       "    .dataframe thead th {\n",
       "        text-align: right;\n",
       "    }\n",
       "</style>\n",
       "<table border=\"1\" class=\"dataframe\">\n",
       "  <thead>\n",
       "    <tr style=\"text-align: right;\">\n",
       "      <th></th>\n",
       "      <th>Area</th>\n",
       "      <th>GDP per capita</th>\n",
       "    </tr>\n",
       "  </thead>\n",
       "  <tbody>\n",
       "    <tr>\n",
       "      <th>0</th>\n",
       "      <td>Tayside</td>\n",
       "      <td>€25,950</td>\n",
       "    </tr>\n",
       "    <tr>\n",
       "      <th>1</th>\n",
       "      <td>Angus &amp; Dundee</td>\n",
       "      <td>€24,500</td>\n",
       "    </tr>\n",
       "    <tr>\n",
       "      <th>2</th>\n",
       "      <td>Perth &amp; Kinross &amp; Stirling</td>\n",
       "      <td>€27,400</td>\n",
       "    </tr>\n",
       "    <tr>\n",
       "      <th>3</th>\n",
       "      <td>Dumfries &amp; Galloway</td>\n",
       "      <td>€20,500</td>\n",
       "    </tr>\n",
       "    <tr>\n",
       "      <th>4</th>\n",
       "      <td>Scottish Borders</td>\n",
       "      <td>€20,300</td>\n",
       "    </tr>\n",
       "    <tr>\n",
       "      <th>5</th>\n",
       "      <td>Clackmann. &amp; Fife</td>\n",
       "      <td>€19,900</td>\n",
       "    </tr>\n",
       "    <tr>\n",
       "      <th>6</th>\n",
       "      <td>Falkirk</td>\n",
       "      <td>€21,800</td>\n",
       "    </tr>\n",
       "    <tr>\n",
       "      <th>7</th>\n",
       "      <td>Edinburgh &amp; Lothian</td>\n",
       "      <td>€31,766</td>\n",
       "    </tr>\n",
       "    <tr>\n",
       "      <th>8</th>\n",
       "      <td>Edinburgh</td>\n",
       "      <td>€50,400</td>\n",
       "    </tr>\n",
       "    <tr>\n",
       "      <th>9</th>\n",
       "      <td>West Lothian</td>\n",
       "      <td>€26,200</td>\n",
       "    </tr>\n",
       "    <tr>\n",
       "      <th>10</th>\n",
       "      <td>East &amp; Mid Lothian</td>\n",
       "      <td>€18,700</td>\n",
       "    </tr>\n",
       "    <tr>\n",
       "      <th>11</th>\n",
       "      <td>Glasgow &amp; Strathclyde</td>\n",
       "      <td>€23,671</td>\n",
       "    </tr>\n",
       "    <tr>\n",
       "      <th>12</th>\n",
       "      <td>Glasgow City</td>\n",
       "      <td>€42,700</td>\n",
       "    </tr>\n",
       "    <tr>\n",
       "      <th>13</th>\n",
       "      <td>Inverclyde &amp; East Renfrew &amp; Renfrew</td>\n",
       "      <td>€21,000</td>\n",
       "    </tr>\n",
       "    <tr>\n",
       "      <th>14</th>\n",
       "      <td>North Lanarkshire</td>\n",
       "      <td>€21,200</td>\n",
       "    </tr>\n",
       "    <tr>\n",
       "      <th>15</th>\n",
       "      <td>South Ayrshire</td>\n",
       "      <td>€25,200</td>\n",
       "    </tr>\n",
       "    <tr>\n",
       "      <th>16</th>\n",
       "      <td>South Lanarkshire</td>\n",
       "      <td>€21,500</td>\n",
       "    </tr>\n",
       "    <tr>\n",
       "      <th>17</th>\n",
       "      <td>East &amp; West Dumbarton</td>\n",
       "      <td>€17,900</td>\n",
       "    </tr>\n",
       "    <tr>\n",
       "      <th>18</th>\n",
       "      <td>East &amp; North Ayrshire</td>\n",
       "      <td>€16,200</td>\n",
       "    </tr>\n",
       "    <tr>\n",
       "      <th>19</th>\n",
       "      <td>Grampian</td>\n",
       "      <td>€47,900</td>\n",
       "    </tr>\n",
       "    <tr>\n",
       "      <th>20</th>\n",
       "      <td>Aberdeen &amp; Aberdeensire</td>\n",
       "      <td>€47,900</td>\n",
       "    </tr>\n",
       "    <tr>\n",
       "      <th>21</th>\n",
       "      <td>Highlands &amp; Islands</td>\n",
       "      <td>€24,000</td>\n",
       "    </tr>\n",
       "    <tr>\n",
       "      <th>22</th>\n",
       "      <td>Caithness &amp; Sutherland &amp; Ross &amp; Cromarty</td>\n",
       "      <td>€18,400</td>\n",
       "    </tr>\n",
       "    <tr>\n",
       "      <th>23</th>\n",
       "      <td>Inverness</td>\n",
       "      <td>€26,900</td>\n",
       "    </tr>\n",
       "    <tr>\n",
       "      <th>24</th>\n",
       "      <td>Lochaber &amp; Skye</td>\n",
       "      <td>€23,300</td>\n",
       "    </tr>\n",
       "    <tr>\n",
       "      <th>25</th>\n",
       "      <td>Eilean Siar</td>\n",
       "      <td>€20,200</td>\n",
       "    </tr>\n",
       "    <tr>\n",
       "      <th>26</th>\n",
       "      <td>Orkney</td>\n",
       "      <td>€23,600</td>\n",
       "    </tr>\n",
       "    <tr>\n",
       "      <th>27</th>\n",
       "      <td>Shetland</td>\n",
       "      <td>€45,800</td>\n",
       "    </tr>\n",
       "    <tr>\n",
       "      <th>28</th>\n",
       "      <td>Total\\n</td>\n",
       "      <td>€29,100(excl. oil revenue)</td>\n",
       "    </tr>\n",
       "  </tbody>\n",
       "</table>\n",
       "</div>"
      ],
      "text/plain": [
       "                                        Area              GDP per capita\n",
       "0                                    Tayside                     €25,950\n",
       "1                             Angus & Dundee                     €24,500\n",
       "2                 Perth & Kinross & Stirling                     €27,400\n",
       "3                        Dumfries & Galloway                     €20,500\n",
       "4                           Scottish Borders                     €20,300\n",
       "5                          Clackmann. & Fife                     €19,900\n",
       "6                                    Falkirk                     €21,800\n",
       "7                        Edinburgh & Lothian                     €31,766\n",
       "8                                  Edinburgh                     €50,400\n",
       "9                               West Lothian                     €26,200\n",
       "10                        East & Mid Lothian                     €18,700\n",
       "11                     Glasgow & Strathclyde                     €23,671\n",
       "12                              Glasgow City                     €42,700\n",
       "13       Inverclyde & East Renfrew & Renfrew                     €21,000\n",
       "14                         North Lanarkshire                     €21,200\n",
       "15                            South Ayrshire                     €25,200\n",
       "16                         South Lanarkshire                     €21,500\n",
       "17                     East & West Dumbarton                     €17,900\n",
       "18                     East & North Ayrshire                     €16,200\n",
       "19                                  Grampian                     €47,900\n",
       "20                   Aberdeen & Aberdeensire                     €47,900\n",
       "21                       Highlands & Islands                     €24,000\n",
       "22  Caithness & Sutherland & Ross & Cromarty                     €18,400\n",
       "23                                 Inverness                     €26,900\n",
       "24                           Lochaber & Skye                     €23,300\n",
       "25                               Eilean Siar                     €20,200\n",
       "26                                    Orkney                     €23,600\n",
       "27                                  Shetland                     €45,800\n",
       "28                                   Total\\n  €29,100(excl. oil revenue)"
      ]
     },
     "execution_count": 57,
     "metadata": {},
     "output_type": "execute_result"
    }
   ],
   "source": [
    "# Create dataframe\n",
    "area_gdp = pd.DataFrame(columns=[\"Area\", \"GDP per capita\"])\n",
    "\n",
    "# Enumerating over tablerows and columns, fill dataframe with data from table\n",
    "for row in tablen.tbody.find_all(\"tr\"):\n",
    "    col = row.find_all(\"td\")\n",
    "    if (col != []):\n",
    "        area = col[0].text\n",
    "        GDP = col[2].text.strip()\n",
    "        area_gdp = area_gdp.append({\"Area\":area, \"GDP per capita\":GDP}, ignore_index=True)\n",
    "\n",
    "area_gdp"
   ]
  },
  {
   "cell_type": "code",
   "execution_count": null,
   "id": "96e40b4c-73c0-447c-ac41-f674a3b183af",
   "metadata": {},
   "outputs": [],
   "source": []
  }
 ],
 "metadata": {
  "kernelspec": {
   "display_name": "Python 3",
   "language": "python",
   "name": "python3"
  },
  "language_info": {
   "codemirror_mode": {
    "name": "ipython",
    "version": 3
   },
   "file_extension": ".py",
   "mimetype": "text/x-python",
   "name": "python",
   "nbconvert_exporter": "python",
   "pygments_lexer": "ipython3",
   "version": "3.9.2"
  }
 },
 "nbformat": 4,
 "nbformat_minor": 5
}
